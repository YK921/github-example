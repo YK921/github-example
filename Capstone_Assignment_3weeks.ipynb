{
  "nbformat": 4,
  "nbformat_minor": 0,
  "metadata": {
    "kernelspec": {
      "display_name": "Python",
      "language": "python",
      "name": "conda-env-python-py"
    },
    "language_info": {
      "codemirror_mode": {
        "name": "ipython",
        "version": 3
      },
      "file_extension": ".py",
      "mimetype": "text/x-python",
      "name": "python",
      "nbconvert_exporter": "python",
      "pygments_lexer": "ipython3",
      "version": "3.6.7"
    },
    "colab": {
      "name": "Capstone_Assignment_3weeks.ipynb",
      "provenance": []
    }
  },
  "cells": [
    {
      "cell_type": "markdown",
      "metadata": {
        "id": "obEVdYmn4Xvz",
        "colab_type": "text"
      },
      "source": [
        "# Q1."
      ]
    },
    {
      "cell_type": "markdown",
      "metadata": {
        "id": "GsISHK8K4Xv5",
        "colab_type": "text"
      },
      "source": [
        "## Import library "
      ]
    },
    {
      "cell_type": "code",
      "metadata": {
        "id": "7TH_8LJM4Xv8",
        "colab_type": "code",
        "colab": {}
      },
      "source": [
        "import pandas as pd\n",
        "#!conda install -c conda-forge lxml --yes "
      ],
      "execution_count": 0,
      "outputs": []
    },
    {
      "cell_type": "markdown",
      "metadata": {
        "id": "jM1CiJH04XwG",
        "colab_type": "text"
      },
      "source": [
        "## Load data"
      ]
    },
    {
      "cell_type": "code",
      "metadata": {
        "id": "KyAoEXD04XwJ",
        "colab_type": "code",
        "colab": {
          "base_uri": "https://localhost:8080/",
          "height": 359
        },
        "outputId": "126c4ce4-57c7-4de3-f5d5-2dec0dc8d6f4"
      },
      "source": [
        "data = pd.read_html('https://en.wikipedia.org/wiki/List_of_postal_codes_of_Canada:_M')\n",
        "df = data[0]\n",
        "df.head(10)"
      ],
      "execution_count": 3,
      "outputs": [
        {
          "output_type": "execute_result",
          "data": {
            "text/html": [
              "<div>\n",
              "<style scoped>\n",
              "    .dataframe tbody tr th:only-of-type {\n",
              "        vertical-align: middle;\n",
              "    }\n",
              "\n",
              "    .dataframe tbody tr th {\n",
              "        vertical-align: top;\n",
              "    }\n",
              "\n",
              "    .dataframe thead th {\n",
              "        text-align: right;\n",
              "    }\n",
              "</style>\n",
              "<table border=\"1\" class=\"dataframe\">\n",
              "  <thead>\n",
              "    <tr style=\"text-align: right;\">\n",
              "      <th></th>\n",
              "      <th>Postcode</th>\n",
              "      <th>Borough</th>\n",
              "      <th>Neighbourhood</th>\n",
              "    </tr>\n",
              "  </thead>\n",
              "  <tbody>\n",
              "    <tr>\n",
              "      <th>0</th>\n",
              "      <td>M1A</td>\n",
              "      <td>Not assigned</td>\n",
              "      <td>Not assigned</td>\n",
              "    </tr>\n",
              "    <tr>\n",
              "      <th>1</th>\n",
              "      <td>M2A</td>\n",
              "      <td>Not assigned</td>\n",
              "      <td>Not assigned</td>\n",
              "    </tr>\n",
              "    <tr>\n",
              "      <th>2</th>\n",
              "      <td>M3A</td>\n",
              "      <td>North York</td>\n",
              "      <td>Parkwoods</td>\n",
              "    </tr>\n",
              "    <tr>\n",
              "      <th>3</th>\n",
              "      <td>M4A</td>\n",
              "      <td>North York</td>\n",
              "      <td>Victoria Village</td>\n",
              "    </tr>\n",
              "    <tr>\n",
              "      <th>4</th>\n",
              "      <td>M5A</td>\n",
              "      <td>Downtown Toronto</td>\n",
              "      <td>Harbourfront</td>\n",
              "    </tr>\n",
              "    <tr>\n",
              "      <th>5</th>\n",
              "      <td>M6A</td>\n",
              "      <td>North York</td>\n",
              "      <td>Lawrence Heights</td>\n",
              "    </tr>\n",
              "    <tr>\n",
              "      <th>6</th>\n",
              "      <td>M6A</td>\n",
              "      <td>North York</td>\n",
              "      <td>Lawrence Manor</td>\n",
              "    </tr>\n",
              "    <tr>\n",
              "      <th>7</th>\n",
              "      <td>M7A</td>\n",
              "      <td>Queen's Park</td>\n",
              "      <td>Not assigned</td>\n",
              "    </tr>\n",
              "    <tr>\n",
              "      <th>8</th>\n",
              "      <td>M8A</td>\n",
              "      <td>Not assigned</td>\n",
              "      <td>Not assigned</td>\n",
              "    </tr>\n",
              "    <tr>\n",
              "      <th>9</th>\n",
              "      <td>M9A</td>\n",
              "      <td>Queen's Park</td>\n",
              "      <td>Queen's Park</td>\n",
              "    </tr>\n",
              "  </tbody>\n",
              "</table>\n",
              "</div>"
            ],
            "text/plain": [
              "  Postcode           Borough     Neighbourhood\n",
              "0      M1A      Not assigned      Not assigned\n",
              "1      M2A      Not assigned      Not assigned\n",
              "2      M3A        North York         Parkwoods\n",
              "3      M4A        North York  Victoria Village\n",
              "4      M5A  Downtown Toronto      Harbourfront\n",
              "5      M6A        North York  Lawrence Heights\n",
              "6      M6A        North York    Lawrence Manor\n",
              "7      M7A      Queen's Park      Not assigned\n",
              "8      M8A      Not assigned      Not assigned\n",
              "9      M9A      Queen's Park      Queen's Park"
            ]
          },
          "metadata": {
            "tags": []
          },
          "execution_count": 3
        }
      ]
    },
    {
      "cell_type": "markdown",
      "metadata": {
        "id": "LBgiDhVM4XwR",
        "colab_type": "text"
      },
      "source": [
        "### Pre-processing about 'Not assigned'"
      ]
    },
    {
      "cell_type": "code",
      "metadata": {
        "id": "bd9-SUEV4XwT",
        "colab_type": "code",
        "colab": {
          "base_uri": "https://localhost:8080/",
          "height": 359
        },
        "outputId": "8fc8285d-258b-465e-c47d-dad74548521b"
      },
      "source": [
        "df = df[df.Borough != 'Not assigned']\n",
        "\n",
        "for x in df[df.Neighbourhood == 'Not assigned'].index :\n",
        "    df.loc[x].Neighbourhood = df.loc[x].Borough\n",
        "    \n",
        "df.head(10)"
      ],
      "execution_count": 4,
      "outputs": [
        {
          "output_type": "execute_result",
          "data": {
            "text/html": [
              "<div>\n",
              "<style scoped>\n",
              "    .dataframe tbody tr th:only-of-type {\n",
              "        vertical-align: middle;\n",
              "    }\n",
              "\n",
              "    .dataframe tbody tr th {\n",
              "        vertical-align: top;\n",
              "    }\n",
              "\n",
              "    .dataframe thead th {\n",
              "        text-align: right;\n",
              "    }\n",
              "</style>\n",
              "<table border=\"1\" class=\"dataframe\">\n",
              "  <thead>\n",
              "    <tr style=\"text-align: right;\">\n",
              "      <th></th>\n",
              "      <th>Postcode</th>\n",
              "      <th>Borough</th>\n",
              "      <th>Neighbourhood</th>\n",
              "    </tr>\n",
              "  </thead>\n",
              "  <tbody>\n",
              "    <tr>\n",
              "      <th>2</th>\n",
              "      <td>M3A</td>\n",
              "      <td>North York</td>\n",
              "      <td>Parkwoods</td>\n",
              "    </tr>\n",
              "    <tr>\n",
              "      <th>3</th>\n",
              "      <td>M4A</td>\n",
              "      <td>North York</td>\n",
              "      <td>Victoria Village</td>\n",
              "    </tr>\n",
              "    <tr>\n",
              "      <th>4</th>\n",
              "      <td>M5A</td>\n",
              "      <td>Downtown Toronto</td>\n",
              "      <td>Harbourfront</td>\n",
              "    </tr>\n",
              "    <tr>\n",
              "      <th>5</th>\n",
              "      <td>M6A</td>\n",
              "      <td>North York</td>\n",
              "      <td>Lawrence Heights</td>\n",
              "    </tr>\n",
              "    <tr>\n",
              "      <th>6</th>\n",
              "      <td>M6A</td>\n",
              "      <td>North York</td>\n",
              "      <td>Lawrence Manor</td>\n",
              "    </tr>\n",
              "    <tr>\n",
              "      <th>7</th>\n",
              "      <td>M7A</td>\n",
              "      <td>Queen's Park</td>\n",
              "      <td>Queen's Park</td>\n",
              "    </tr>\n",
              "    <tr>\n",
              "      <th>9</th>\n",
              "      <td>M9A</td>\n",
              "      <td>Queen's Park</td>\n",
              "      <td>Queen's Park</td>\n",
              "    </tr>\n",
              "    <tr>\n",
              "      <th>10</th>\n",
              "      <td>M1B</td>\n",
              "      <td>Scarborough</td>\n",
              "      <td>Rouge</td>\n",
              "    </tr>\n",
              "    <tr>\n",
              "      <th>11</th>\n",
              "      <td>M1B</td>\n",
              "      <td>Scarborough</td>\n",
              "      <td>Malvern</td>\n",
              "    </tr>\n",
              "    <tr>\n",
              "      <th>13</th>\n",
              "      <td>M3B</td>\n",
              "      <td>North York</td>\n",
              "      <td>Don Mills North</td>\n",
              "    </tr>\n",
              "  </tbody>\n",
              "</table>\n",
              "</div>"
            ],
            "text/plain": [
              "   Postcode           Borough     Neighbourhood\n",
              "2       M3A        North York         Parkwoods\n",
              "3       M4A        North York  Victoria Village\n",
              "4       M5A  Downtown Toronto      Harbourfront\n",
              "5       M6A        North York  Lawrence Heights\n",
              "6       M6A        North York    Lawrence Manor\n",
              "7       M7A      Queen's Park      Queen's Park\n",
              "9       M9A      Queen's Park      Queen's Park\n",
              "10      M1B       Scarborough             Rouge\n",
              "11      M1B       Scarborough           Malvern\n",
              "13      M3B        North York   Don Mills North"
            ]
          },
          "metadata": {
            "tags": []
          },
          "execution_count": 4
        }
      ]
    },
    {
      "cell_type": "code",
      "metadata": {
        "id": "6kHeTxor4Xwb",
        "colab_type": "code",
        "colab": {
          "base_uri": "https://localhost:8080/",
          "height": 359
        },
        "outputId": "699dc98f-f94f-4f94-f055-89a77923ddac"
      },
      "source": [
        "df_ = df.groupby(by = ['Postcode','Borough'], sort=False, as_index=False).agg( ', '.join)\n",
        "df_.head(10)"
      ],
      "execution_count": 5,
      "outputs": [
        {
          "output_type": "execute_result",
          "data": {
            "text/html": [
              "<div>\n",
              "<style scoped>\n",
              "    .dataframe tbody tr th:only-of-type {\n",
              "        vertical-align: middle;\n",
              "    }\n",
              "\n",
              "    .dataframe tbody tr th {\n",
              "        vertical-align: top;\n",
              "    }\n",
              "\n",
              "    .dataframe thead th {\n",
              "        text-align: right;\n",
              "    }\n",
              "</style>\n",
              "<table border=\"1\" class=\"dataframe\">\n",
              "  <thead>\n",
              "    <tr style=\"text-align: right;\">\n",
              "      <th></th>\n",
              "      <th>Postcode</th>\n",
              "      <th>Borough</th>\n",
              "      <th>Neighbourhood</th>\n",
              "    </tr>\n",
              "  </thead>\n",
              "  <tbody>\n",
              "    <tr>\n",
              "      <th>0</th>\n",
              "      <td>M3A</td>\n",
              "      <td>North York</td>\n",
              "      <td>Parkwoods</td>\n",
              "    </tr>\n",
              "    <tr>\n",
              "      <th>1</th>\n",
              "      <td>M4A</td>\n",
              "      <td>North York</td>\n",
              "      <td>Victoria Village</td>\n",
              "    </tr>\n",
              "    <tr>\n",
              "      <th>2</th>\n",
              "      <td>M5A</td>\n",
              "      <td>Downtown Toronto</td>\n",
              "      <td>Harbourfront</td>\n",
              "    </tr>\n",
              "    <tr>\n",
              "      <th>3</th>\n",
              "      <td>M6A</td>\n",
              "      <td>North York</td>\n",
              "      <td>Lawrence Heights, Lawrence Manor</td>\n",
              "    </tr>\n",
              "    <tr>\n",
              "      <th>4</th>\n",
              "      <td>M7A</td>\n",
              "      <td>Queen's Park</td>\n",
              "      <td>Queen's Park</td>\n",
              "    </tr>\n",
              "    <tr>\n",
              "      <th>5</th>\n",
              "      <td>M9A</td>\n",
              "      <td>Queen's Park</td>\n",
              "      <td>Queen's Park</td>\n",
              "    </tr>\n",
              "    <tr>\n",
              "      <th>6</th>\n",
              "      <td>M1B</td>\n",
              "      <td>Scarborough</td>\n",
              "      <td>Rouge, Malvern</td>\n",
              "    </tr>\n",
              "    <tr>\n",
              "      <th>7</th>\n",
              "      <td>M3B</td>\n",
              "      <td>North York</td>\n",
              "      <td>Don Mills North</td>\n",
              "    </tr>\n",
              "    <tr>\n",
              "      <th>8</th>\n",
              "      <td>M4B</td>\n",
              "      <td>East York</td>\n",
              "      <td>Woodbine Gardens, Parkview Hill</td>\n",
              "    </tr>\n",
              "    <tr>\n",
              "      <th>9</th>\n",
              "      <td>M5B</td>\n",
              "      <td>Downtown Toronto</td>\n",
              "      <td>Ryerson, Garden District</td>\n",
              "    </tr>\n",
              "  </tbody>\n",
              "</table>\n",
              "</div>"
            ],
            "text/plain": [
              "  Postcode           Borough                     Neighbourhood\n",
              "0      M3A        North York                         Parkwoods\n",
              "1      M4A        North York                  Victoria Village\n",
              "2      M5A  Downtown Toronto                      Harbourfront\n",
              "3      M6A        North York  Lawrence Heights, Lawrence Manor\n",
              "4      M7A      Queen's Park                      Queen's Park\n",
              "5      M9A      Queen's Park                      Queen's Park\n",
              "6      M1B       Scarborough                    Rouge, Malvern\n",
              "7      M3B        North York                   Don Mills North\n",
              "8      M4B         East York   Woodbine Gardens, Parkview Hill\n",
              "9      M5B  Downtown Toronto          Ryerson, Garden District"
            ]
          },
          "metadata": {
            "tags": []
          },
          "execution_count": 5
        }
      ]
    },
    {
      "cell_type": "markdown",
      "metadata": {
        "id": "bz_zypH94Xwj",
        "colab_type": "text"
      },
      "source": [
        "## Explain:\n",
        "\n",
        "This table is made by data from wiki's Canada_M(Toronto) Postal Codes \n",
        "\n",
        "About borough, Neighborhood,\n",
        "If Neighborhood is a Not assigned then the neighborhood will be the same as the borough."
      ]
    },
    {
      "cell_type": "code",
      "metadata": {
        "id": "WH4HS1vX4Xwl",
        "colab_type": "code",
        "colab": {
          "base_uri": "https://localhost:8080/",
          "height": 34
        },
        "outputId": "0c4b4662-c478-4757-f480-b361e337de08"
      },
      "source": [
        "df_.shape"
      ],
      "execution_count": 6,
      "outputs": [
        {
          "output_type": "execute_result",
          "data": {
            "text/plain": [
              "(103, 3)"
            ]
          },
          "metadata": {
            "tags": []
          },
          "execution_count": 6
        }
      ]
    },
    {
      "cell_type": "markdown",
      "metadata": {
        "id": "fiGYOOeL4Xws",
        "colab_type": "text"
      },
      "source": [
        "# Q2."
      ]
    },
    {
      "cell_type": "markdown",
      "metadata": {
        "id": "l84M5_-t4Xwu",
        "colab_type": "text"
      },
      "source": [
        "## Load Geo data"
      ]
    },
    {
      "cell_type": "code",
      "metadata": {
        "id": "B-Q5urrd4Xww",
        "colab_type": "code",
        "colab": {}
      },
      "source": [
        "geo_df = pd.read_csv('http://cocl.us/Geospatial_data')"
      ],
      "execution_count": 0,
      "outputs": []
    },
    {
      "cell_type": "code",
      "metadata": {
        "id": "WQZFCCtY4Xw4",
        "colab_type": "code",
        "colab": {
          "base_uri": "https://localhost:8080/",
          "height": 419
        },
        "outputId": "8c658380-9bc4-40c5-b35e-8508b61238a7"
      },
      "source": [
        "geo_df"
      ],
      "execution_count": 8,
      "outputs": [
        {
          "output_type": "execute_result",
          "data": {
            "text/html": [
              "<div>\n",
              "<style scoped>\n",
              "    .dataframe tbody tr th:only-of-type {\n",
              "        vertical-align: middle;\n",
              "    }\n",
              "\n",
              "    .dataframe tbody tr th {\n",
              "        vertical-align: top;\n",
              "    }\n",
              "\n",
              "    .dataframe thead th {\n",
              "        text-align: right;\n",
              "    }\n",
              "</style>\n",
              "<table border=\"1\" class=\"dataframe\">\n",
              "  <thead>\n",
              "    <tr style=\"text-align: right;\">\n",
              "      <th></th>\n",
              "      <th>Postal Code</th>\n",
              "      <th>Latitude</th>\n",
              "      <th>Longitude</th>\n",
              "    </tr>\n",
              "  </thead>\n",
              "  <tbody>\n",
              "    <tr>\n",
              "      <th>0</th>\n",
              "      <td>M1B</td>\n",
              "      <td>43.806686</td>\n",
              "      <td>-79.194353</td>\n",
              "    </tr>\n",
              "    <tr>\n",
              "      <th>1</th>\n",
              "      <td>M1C</td>\n",
              "      <td>43.784535</td>\n",
              "      <td>-79.160497</td>\n",
              "    </tr>\n",
              "    <tr>\n",
              "      <th>2</th>\n",
              "      <td>M1E</td>\n",
              "      <td>43.763573</td>\n",
              "      <td>-79.188711</td>\n",
              "    </tr>\n",
              "    <tr>\n",
              "      <th>3</th>\n",
              "      <td>M1G</td>\n",
              "      <td>43.770992</td>\n",
              "      <td>-79.216917</td>\n",
              "    </tr>\n",
              "    <tr>\n",
              "      <th>4</th>\n",
              "      <td>M1H</td>\n",
              "      <td>43.773136</td>\n",
              "      <td>-79.239476</td>\n",
              "    </tr>\n",
              "    <tr>\n",
              "      <th>...</th>\n",
              "      <td>...</td>\n",
              "      <td>...</td>\n",
              "      <td>...</td>\n",
              "    </tr>\n",
              "    <tr>\n",
              "      <th>98</th>\n",
              "      <td>M9N</td>\n",
              "      <td>43.706876</td>\n",
              "      <td>-79.518188</td>\n",
              "    </tr>\n",
              "    <tr>\n",
              "      <th>99</th>\n",
              "      <td>M9P</td>\n",
              "      <td>43.696319</td>\n",
              "      <td>-79.532242</td>\n",
              "    </tr>\n",
              "    <tr>\n",
              "      <th>100</th>\n",
              "      <td>M9R</td>\n",
              "      <td>43.688905</td>\n",
              "      <td>-79.554724</td>\n",
              "    </tr>\n",
              "    <tr>\n",
              "      <th>101</th>\n",
              "      <td>M9V</td>\n",
              "      <td>43.739416</td>\n",
              "      <td>-79.588437</td>\n",
              "    </tr>\n",
              "    <tr>\n",
              "      <th>102</th>\n",
              "      <td>M9W</td>\n",
              "      <td>43.706748</td>\n",
              "      <td>-79.594054</td>\n",
              "    </tr>\n",
              "  </tbody>\n",
              "</table>\n",
              "<p>103 rows × 3 columns</p>\n",
              "</div>"
            ],
            "text/plain": [
              "    Postal Code   Latitude  Longitude\n",
              "0           M1B  43.806686 -79.194353\n",
              "1           M1C  43.784535 -79.160497\n",
              "2           M1E  43.763573 -79.188711\n",
              "3           M1G  43.770992 -79.216917\n",
              "4           M1H  43.773136 -79.239476\n",
              "..          ...        ...        ...\n",
              "98          M9N  43.706876 -79.518188\n",
              "99          M9P  43.696319 -79.532242\n",
              "100         M9R  43.688905 -79.554724\n",
              "101         M9V  43.739416 -79.588437\n",
              "102         M9W  43.706748 -79.594054\n",
              "\n",
              "[103 rows x 3 columns]"
            ]
          },
          "metadata": {
            "tags": []
          },
          "execution_count": 8
        }
      ]
    },
    {
      "cell_type": "markdown",
      "metadata": {
        "id": "BYvTqEGm4Xw_",
        "colab_type": "text"
      },
      "source": [
        "### Extraction Latitude and Longitude positions"
      ]
    },
    {
      "cell_type": "code",
      "metadata": {
        "id": "Z9sQF5-34XxB",
        "colab_type": "code",
        "colab": {}
      },
      "source": [
        "Lat_Long_df = pd.DataFrame(columns=['Latitude', 'Longitude'])\n",
        "\n",
        "for x in df_.Postcode:\n",
        "    Lat = geo_df[geo_df['Postal Code']== x].iloc[0,1]\n",
        "    Long = geo_df[geo_df['Postal Code']== x].iloc[0,2]\n",
        "    \n",
        "    #data = pd.DataFrame(data = [[Lat, Long]], columns=['Latitude', 'Longitude'])    \n",
        "    #Lat_Long_df = pd.DataFrame(Lat_Long_df.append(data))\n",
        "    #Lat_Long_df = Lat_Long_df.reset_index(drop=True)\n",
        "    \n",
        "    Lat_Long_df = Lat_Long_df.append({'Latitude':Lat, 'Longitude':Long}, ignore_index=True)"
      ],
      "execution_count": 0,
      "outputs": []
    },
    {
      "cell_type": "code",
      "metadata": {
        "id": "XxbNYwci4XxI",
        "colab_type": "code",
        "colab": {
          "base_uri": "https://localhost:8080/",
          "height": 359
        },
        "outputId": "2b9d1971-dde7-4797-9137-efe507f0bb4b"
      },
      "source": [
        "Lat_Long_df.head(10)"
      ],
      "execution_count": 10,
      "outputs": [
        {
          "output_type": "execute_result",
          "data": {
            "text/html": [
              "<div>\n",
              "<style scoped>\n",
              "    .dataframe tbody tr th:only-of-type {\n",
              "        vertical-align: middle;\n",
              "    }\n",
              "\n",
              "    .dataframe tbody tr th {\n",
              "        vertical-align: top;\n",
              "    }\n",
              "\n",
              "    .dataframe thead th {\n",
              "        text-align: right;\n",
              "    }\n",
              "</style>\n",
              "<table border=\"1\" class=\"dataframe\">\n",
              "  <thead>\n",
              "    <tr style=\"text-align: right;\">\n",
              "      <th></th>\n",
              "      <th>Latitude</th>\n",
              "      <th>Longitude</th>\n",
              "    </tr>\n",
              "  </thead>\n",
              "  <tbody>\n",
              "    <tr>\n",
              "      <th>0</th>\n",
              "      <td>43.753259</td>\n",
              "      <td>-79.329656</td>\n",
              "    </tr>\n",
              "    <tr>\n",
              "      <th>1</th>\n",
              "      <td>43.725882</td>\n",
              "      <td>-79.315572</td>\n",
              "    </tr>\n",
              "    <tr>\n",
              "      <th>2</th>\n",
              "      <td>43.654260</td>\n",
              "      <td>-79.360636</td>\n",
              "    </tr>\n",
              "    <tr>\n",
              "      <th>3</th>\n",
              "      <td>43.718518</td>\n",
              "      <td>-79.464763</td>\n",
              "    </tr>\n",
              "    <tr>\n",
              "      <th>4</th>\n",
              "      <td>43.662301</td>\n",
              "      <td>-79.389494</td>\n",
              "    </tr>\n",
              "    <tr>\n",
              "      <th>5</th>\n",
              "      <td>43.667856</td>\n",
              "      <td>-79.532242</td>\n",
              "    </tr>\n",
              "    <tr>\n",
              "      <th>6</th>\n",
              "      <td>43.806686</td>\n",
              "      <td>-79.194353</td>\n",
              "    </tr>\n",
              "    <tr>\n",
              "      <th>7</th>\n",
              "      <td>43.745906</td>\n",
              "      <td>-79.352188</td>\n",
              "    </tr>\n",
              "    <tr>\n",
              "      <th>8</th>\n",
              "      <td>43.706397</td>\n",
              "      <td>-79.309937</td>\n",
              "    </tr>\n",
              "    <tr>\n",
              "      <th>9</th>\n",
              "      <td>43.657162</td>\n",
              "      <td>-79.378937</td>\n",
              "    </tr>\n",
              "  </tbody>\n",
              "</table>\n",
              "</div>"
            ],
            "text/plain": [
              "    Latitude  Longitude\n",
              "0  43.753259 -79.329656\n",
              "1  43.725882 -79.315572\n",
              "2  43.654260 -79.360636\n",
              "3  43.718518 -79.464763\n",
              "4  43.662301 -79.389494\n",
              "5  43.667856 -79.532242\n",
              "6  43.806686 -79.194353\n",
              "7  43.745906 -79.352188\n",
              "8  43.706397 -79.309937\n",
              "9  43.657162 -79.378937"
            ]
          },
          "metadata": {
            "tags": []
          },
          "execution_count": 10
        }
      ]
    },
    {
      "cell_type": "markdown",
      "metadata": {
        "id": "XAWkghtO4XxO",
        "colab_type": "text"
      },
      "source": [
        "### Merge dataframe"
      ]
    },
    {
      "cell_type": "code",
      "metadata": {
        "id": "_WPEHhZc4XxQ",
        "colab_type": "code",
        "colab": {
          "base_uri": "https://localhost:8080/",
          "height": 359
        },
        "outputId": "cde59ff4-93f3-4afe-afc9-9a2ec7875105"
      },
      "source": [
        "df_con = pd.concat([df_, Lat_Long_df], axis=1)\n",
        "df_con.head(10)"
      ],
      "execution_count": 12,
      "outputs": [
        {
          "output_type": "execute_result",
          "data": {
            "text/html": [
              "<div>\n",
              "<style scoped>\n",
              "    .dataframe tbody tr th:only-of-type {\n",
              "        vertical-align: middle;\n",
              "    }\n",
              "\n",
              "    .dataframe tbody tr th {\n",
              "        vertical-align: top;\n",
              "    }\n",
              "\n",
              "    .dataframe thead th {\n",
              "        text-align: right;\n",
              "    }\n",
              "</style>\n",
              "<table border=\"1\" class=\"dataframe\">\n",
              "  <thead>\n",
              "    <tr style=\"text-align: right;\">\n",
              "      <th></th>\n",
              "      <th>Postcode</th>\n",
              "      <th>Borough</th>\n",
              "      <th>Neighbourhood</th>\n",
              "      <th>Latitude</th>\n",
              "      <th>Longitude</th>\n",
              "    </tr>\n",
              "  </thead>\n",
              "  <tbody>\n",
              "    <tr>\n",
              "      <th>0</th>\n",
              "      <td>M3A</td>\n",
              "      <td>North York</td>\n",
              "      <td>Parkwoods</td>\n",
              "      <td>43.753259</td>\n",
              "      <td>-79.329656</td>\n",
              "    </tr>\n",
              "    <tr>\n",
              "      <th>1</th>\n",
              "      <td>M4A</td>\n",
              "      <td>North York</td>\n",
              "      <td>Victoria Village</td>\n",
              "      <td>43.725882</td>\n",
              "      <td>-79.315572</td>\n",
              "    </tr>\n",
              "    <tr>\n",
              "      <th>2</th>\n",
              "      <td>M5A</td>\n",
              "      <td>Downtown Toronto</td>\n",
              "      <td>Harbourfront</td>\n",
              "      <td>43.654260</td>\n",
              "      <td>-79.360636</td>\n",
              "    </tr>\n",
              "    <tr>\n",
              "      <th>3</th>\n",
              "      <td>M6A</td>\n",
              "      <td>North York</td>\n",
              "      <td>Lawrence Heights, Lawrence Manor</td>\n",
              "      <td>43.718518</td>\n",
              "      <td>-79.464763</td>\n",
              "    </tr>\n",
              "    <tr>\n",
              "      <th>4</th>\n",
              "      <td>M7A</td>\n",
              "      <td>Queen's Park</td>\n",
              "      <td>Queen's Park</td>\n",
              "      <td>43.662301</td>\n",
              "      <td>-79.389494</td>\n",
              "    </tr>\n",
              "    <tr>\n",
              "      <th>5</th>\n",
              "      <td>M9A</td>\n",
              "      <td>Queen's Park</td>\n",
              "      <td>Queen's Park</td>\n",
              "      <td>43.667856</td>\n",
              "      <td>-79.532242</td>\n",
              "    </tr>\n",
              "    <tr>\n",
              "      <th>6</th>\n",
              "      <td>M1B</td>\n",
              "      <td>Scarborough</td>\n",
              "      <td>Rouge, Malvern</td>\n",
              "      <td>43.806686</td>\n",
              "      <td>-79.194353</td>\n",
              "    </tr>\n",
              "    <tr>\n",
              "      <th>7</th>\n",
              "      <td>M3B</td>\n",
              "      <td>North York</td>\n",
              "      <td>Don Mills North</td>\n",
              "      <td>43.745906</td>\n",
              "      <td>-79.352188</td>\n",
              "    </tr>\n",
              "    <tr>\n",
              "      <th>8</th>\n",
              "      <td>M4B</td>\n",
              "      <td>East York</td>\n",
              "      <td>Woodbine Gardens, Parkview Hill</td>\n",
              "      <td>43.706397</td>\n",
              "      <td>-79.309937</td>\n",
              "    </tr>\n",
              "    <tr>\n",
              "      <th>9</th>\n",
              "      <td>M5B</td>\n",
              "      <td>Downtown Toronto</td>\n",
              "      <td>Ryerson, Garden District</td>\n",
              "      <td>43.657162</td>\n",
              "      <td>-79.378937</td>\n",
              "    </tr>\n",
              "  </tbody>\n",
              "</table>\n",
              "</div>"
            ],
            "text/plain": [
              "  Postcode           Borough  ...   Latitude  Longitude\n",
              "0      M3A        North York  ...  43.753259 -79.329656\n",
              "1      M4A        North York  ...  43.725882 -79.315572\n",
              "2      M5A  Downtown Toronto  ...  43.654260 -79.360636\n",
              "3      M6A        North York  ...  43.718518 -79.464763\n",
              "4      M7A      Queen's Park  ...  43.662301 -79.389494\n",
              "5      M9A      Queen's Park  ...  43.667856 -79.532242\n",
              "6      M1B       Scarborough  ...  43.806686 -79.194353\n",
              "7      M3B        North York  ...  43.745906 -79.352188\n",
              "8      M4B         East York  ...  43.706397 -79.309937\n",
              "9      M5B  Downtown Toronto  ...  43.657162 -79.378937\n",
              "\n",
              "[10 rows x 5 columns]"
            ]
          },
          "metadata": {
            "tags": []
          },
          "execution_count": 12
        }
      ]
    },
    {
      "cell_type": "markdown",
      "metadata": {
        "id": "ncYCAQXr4XxX",
        "colab_type": "text"
      },
      "source": [
        "### Draw on map"
      ]
    },
    {
      "cell_type": "code",
      "metadata": {
        "id": "nW8myl9-4XxZ",
        "colab_type": "code",
        "colab": {}
      },
      "source": [
        "import folium # plotting library\n",
        "\n",
        "latitude = df_con.Latitude.mean()\n",
        "longitude = df_con.Longitude.mean()"
      ],
      "execution_count": 0,
      "outputs": []
    },
    {
      "cell_type": "markdown",
      "metadata": {
        "id": "pPZvQ_qV4Xxf",
        "colab_type": "text"
      },
      "source": [
        "#### Initialize map"
      ]
    },
    {
      "cell_type": "code",
      "metadata": {
        "id": "WhnyFob-4Xxh",
        "colab_type": "code",
        "colab": {
          "base_uri": "https://localhost:8080/",
          "height": 34
        },
        "outputId": "b794b0af-b12b-4d5c-a80a-f09d1620c576"
      },
      "source": [
        "venues_map = folium.Map(location=[latitude, longitude], zoom_start=10) # generate map centred around Ecco\n",
        "\n",
        "# add center circle mark\n",
        "folium.CircleMarker(\n",
        "    [latitude, longitude],\n",
        "    radius=10,\n",
        "    popup='Ecco',\n",
        "    fill=True,\n",
        "    color='red',\n",
        "    fill_color='red',\n",
        "    fill_opacity=0.6\n",
        "    ).add_to(venues_map)"
      ],
      "execution_count": 14,
      "outputs": [
        {
          "output_type": "execute_result",
          "data": {
            "text/plain": [
              "<folium.vector_layers.CircleMarker at 0x7fbc563b5828>"
            ]
          },
          "metadata": {
            "tags": []
          },
          "execution_count": 14
        }
      ]
    },
    {
      "cell_type": "markdown",
      "metadata": {
        "id": "qbNeDfx34Xxp",
        "colab_type": "text"
      },
      "source": [
        "#### draw datas on map"
      ]
    },
    {
      "cell_type": "code",
      "metadata": {
        "id": "wMzUYLMz4Xxr",
        "colab_type": "code",
        "colab": {}
      },
      "source": [
        "for lat, lng, label in zip(df_con.Latitude, df_con.Longitude, df_con.Neighbourhood):\n",
        "    folium.CircleMarker(\n",
        "        [lat, lng],\n",
        "        radius=5,\n",
        "        popup=label,\n",
        "        fill=True,\n",
        "        color='blue',\n",
        "        fill_color='blue',\n",
        "        fill_opacity=0.6\n",
        "        ).add_to(venues_map)"
      ],
      "execution_count": 0,
      "outputs": []
    },
    {
      "cell_type": "code",
      "metadata": {
        "id": "tK-GMJxi4Xxx",
        "colab_type": "code",
        "colab": {
          "base_uri": "https://localhost:8080/",
          "height": 511
        },
        "outputId": "e541a29c-f58f-4b35-c964-0f08d77ade74"
      },
      "source": [
        "venues_map"
      ],
      "execution_count": 16,
      "outputs": [
        {
          "output_type": "execute_result",
          "data": {
            "text/html": [
              "<div style=\"width:100%;\"><div style=\"position:relative;width:100%;height:0;padding-bottom:60%;\"><iframe src=\"data:text/html;charset=utf-8;base64,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\" style=\"position:absolute;width:100%;height:100%;left:0;top:0;border:none !important;\" allowfullscreen webkitallowfullscreen mozallowfullscreen></iframe></div></div>"
            ],
            "text/plain": [
              "<folium.folium.Map at 0x7fbc563b50b8>"
            ]
          },
          "metadata": {
            "tags": []
          },
          "execution_count": 16
        }
      ]
    },
    {
      "cell_type": "code",
      "metadata": {
        "id": "2JXIxZgB4Xx4",
        "colab_type": "code",
        "colab": {}
      },
      "source": [
        ""
      ],
      "execution_count": 0,
      "outputs": []
    }
  ]
}